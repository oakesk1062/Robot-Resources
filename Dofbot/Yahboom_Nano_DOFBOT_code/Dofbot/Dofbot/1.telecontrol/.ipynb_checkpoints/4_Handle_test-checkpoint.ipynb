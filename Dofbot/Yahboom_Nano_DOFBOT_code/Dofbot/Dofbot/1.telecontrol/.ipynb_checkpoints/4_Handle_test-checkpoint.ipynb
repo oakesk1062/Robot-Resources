{
 "cells": [
  {
   "cell_type": "markdown",
   "metadata": {},
   "source": [
    "<center><img src=\"../logo.png\" alt=\"Header\" style=\"width: 800px;\"/></center>"
   ]
  },
  {
   "cell_type": "markdown",
   "metadata": {},
   "source": [
    "\n",
    "@Copyright (C): 2010-2020, Shenzhen Yahboom Tech  \n",
    "@Author: Liusen  \n",
    "@Date: 2020-02-03 16:03:02  \n",
    "@LastEditors: Liusen  \n",
    "@LastEditTime: 2020-02-04 14:03:02   "
   ]
  },
  {
   "cell_type": "markdown",
   "metadata": {},
   "source": [
    "1.Handle key test\n",
    "First of all, we open the http://html5gamepad.com webpage, and connect your Handle to your computer. \n",
    "Because maybe your PC computer can not only connect a handle, so the default value of the index of the handle you connect is not 0, so we need to go to this page to view the handle we are currently using. The index can be used correctly. "
   ]
  },
  {
   "cell_type": "code",
   "execution_count": null,
   "metadata": {},
   "outputs": [],
   "source": [
    "#Import widgets compennt\n",
    "import ipywidgets.widgets as widgets"
   ]
  },
  {
   "cell_type": "code",
   "execution_count": null,
   "metadata": {},
   "outputs": [],
   "source": [
    "controller = widgets.Controller(index=0)  # index indicates the serial number of the handle we use\n",
    "display(controller)                       # Display slide bars and boxes"
   ]
  },
  {
   "cell_type": "markdown",
   "metadata": {},
   "source": [
    "2.It is recommended to end the task before running the following program, and then restart the kernel to run the following program.\n",
    "  \n",
    "   It is recommended that we use the simulation mode, press the ANALOG button on the handle to enter the simulation mode. Red light will on.\n",
    "\n",
    "The slide bars 0-9 represent the analog value, take value method: controller.axes [0] .value = -1.0 ~ 1.0\n",
    "The boxes 0-11 Bool represent the value of the keys, take Value method: controller.buttons [0] .value = True / False"
   ]
  },
  {
   "cell_type": "code",
   "execution_count": null,
   "metadata": {},
   "outputs": [],
   "source": [
    "from Raspblock import Raspblock\n",
    "import ipywidgets.widgets as widgets\n",
    "import time\n",
    "\n",
    "# Thread function operation library\n",
    "import threading\n",
    "import inspect\n",
    "import ctypes\n",
    "import matplotlib.pyplot as plt\n",
    "\n",
    "\n",
    "robot = Raspblock()\n",
    "controller = widgets.Controller(index=0)  #index indicates the serial number of the handle we use\n",
    "display(controller)                       #Display slide bars and boxes of Handle\n",
    "\n"
   ]
  },
  {
   "cell_type": "code",
   "execution_count": null,
   "metadata": {},
   "outputs": [],
   "source": [
    "def _async_raise(tid, exctype):\n",
    "    \"\"\"raises the exception, performs cleanup if needed\"\"\"\n",
    "    tid = ctypes.c_long(tid)\n",
    "    if not inspect.isclass(exctype):\n",
    "        exctype = type(exctype)\n",
    "    res = ctypes.pythonapi.PyThreadState_SetAsyncExc(tid, ctypes.py_object(exctype))\n",
    "    if res == 0:\n",
    "        raise ValueError(\"invalid thread id\")\n",
    "    elif res != 1:\n",
    "        # \"\"\"if it returns a number greater than one, you're in trouble,\n",
    "        # and you should call it again with exc=NULL to revert the effect\"\"\"\n",
    "        ctypes.pythonapi.PyThreadState_SetAsyncExc(tid, None)\n",
    "        \n",
    "def stop_thread(thread):\n",
    "    _async_raise(thread.ident, SystemExit)"
   ]
  },
  {
   "cell_type": "code",
   "execution_count": null,
   "metadata": {},
   "outputs": [],
   "source": [
    "def Remote_thread():\n",
    "    while True:\n",
    "        if controller.buttons[0].value == True:\n",
    "            robot.Buzzer_control(1) \n",
    "        else:\n",
    "            robot.Buzzer_control(0)\n",
    "        time.sleep(0.01)\n",
    "def stop_thread(thread):\n",
    "    _async_raise(thread.ident, SystemExit)"
   ]
  },
  {
   "cell_type": "code",
   "execution_count": null,
   "metadata": {},
   "outputs": [],
   "source": [
    "thread = threading.Thread(target=Remote_thread)\n",
    "thread.setDaemon(True)\n",
    "thread.start()"
   ]
  },
  {
   "cell_type": "markdown",
   "metadata": {},
   "source": [
    "# When we need to end the entire program process, we need to run this code"
   ]
  },
  {
   "cell_type": "code",
   "execution_count": null,
   "metadata": {},
   "outputs": [],
   "source": [
    "stop_thread(thread)\n",
    "del robot"
   ]
  },
  {
   "cell_type": "code",
   "execution_count": null,
   "metadata": {},
   "outputs": [],
   "source": []
  }
 ],
 "metadata": {
  "kernelspec": {
   "display_name": "Python 3",
   "language": "python",
   "name": "python3"
  },
  "language_info": {
   "codemirror_mode": {
    "name": "ipython",
    "version": 3
   },
   "file_extension": ".py",
   "mimetype": "text/x-python",
   "name": "python",
   "nbconvert_exporter": "python",
   "pygments_lexer": "ipython3",
   "version": "3.7.3"
  }
 },
 "nbformat": 4,
 "nbformat_minor": 4
}
