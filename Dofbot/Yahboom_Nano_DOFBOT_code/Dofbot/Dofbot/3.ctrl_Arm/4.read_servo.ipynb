{
 "cells": [
  {
   "cell_type": "code",
   "execution_count": null,
   "metadata": {},
   "outputs": [],
   "source": [
    "#!/usr/bin/env python3\n",
    "#coding=utf-8\n",
    "import time\n",
    "from Arm_Lib import Arm_Device\n",
    "\n",
    "# Get DOFBOT object\n",
    "Arm = Arm_Device()\n",
    "time.sleep(.1)\n"
   ]
  },
  {
   "cell_type": "code",
   "execution_count": null,
   "metadata": {},
   "outputs": [],
   "source": [
    "# Read angle of all servo and printf\n",
    "def main():\n",
    "\n",
    "    while True:\n",
    "        for i in range(6):\n",
    "            aa = Arm.Arm_serial_servo_read(i+1)\n",
    "            print(aa)\n",
    "            time.sleep(.01)\n",
    "        time.sleep(.5)\n",
    "        print(\" END OF LINE! \")\n",
    "\n",
    "    \n",
    "try :\n",
    "    main()\n",
    "except KeyboardInterrupt:\n",
    "    print(\" Program closed! \")\n",
    "    pass\n"
   ]
  },
  {
   "cell_type": "code",
   "execution_count": null,
   "metadata": {},
   "outputs": [],
   "source": [
    "# After controlling the movement of a servo individually, read its angle\n",
    "id = 6\n",
    "angle = 150\n",
    "\n",
    "Arm.Arm_serial_servo_write(id, angle, 500)\n",
    "time.sleep(1)\n",
    "\n",
    "aa = Arm.Arm_serial_servo_read(id)\n",
    "print(aa)\n",
    "\n",
    "time.sleep(.5)\n"
   ]
  },
  {
   "cell_type": "code",
   "execution_count": null,
   "metadata": {},
   "outputs": [],
   "source": [
    "del Arm  # Release DOFBOT object"
   ]
  },
  {
   "cell_type": "code",
   "execution_count": null,
   "metadata": {},
   "outputs": [],
   "source": []
  }
 ],
 "metadata": {
  "kernelspec": {
   "display_name": "Python 3",
   "language": "python",
   "name": "python3"
  },
  "language_info": {
   "codemirror_mode": {
    "name": "ipython",
    "version": 3
   },
   "file_extension": ".py",
   "mimetype": "text/x-python",
   "name": "python",
   "nbconvert_exporter": "python",
   "pygments_lexer": "ipython3",
   "version": "3.6.9"
  }
 },
 "nbformat": 4,
 "nbformat_minor": 4
}
