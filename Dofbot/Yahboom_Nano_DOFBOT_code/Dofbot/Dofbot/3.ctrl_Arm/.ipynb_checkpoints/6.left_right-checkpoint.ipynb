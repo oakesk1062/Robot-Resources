{
 "cells": [
  {
   "cell_type": "code",
   "execution_count": null,
   "metadata": {},
   "outputs": [],
   "source": [
    "#!/usr/bin/env python3\n",
    "#coding=utf-8\n",
    "import time\n",
    "from Arm_Lib import Arm_Device\n",
    "\n",
    "# Get DOFBOT object\n",
    "Arm = Arm_Device()\n",
    "time.sleep(.1)\n"
   ]
  },
  {
   "cell_type": "code",
   "execution_count": null,
   "metadata": {},
   "outputs": [],
   "source": [
    "# Controlling DOFBOT swing up and down in loop\n",
    "def main():\n",
    "    # make all servo middle\n",
    "    Arm.Arm_serial_servo_write6(90, 90, 90, 90, 90, 90, 500)\n",
    "    time.sleep(1)\n",
    "\n",
    "\n",
    "    while True:\n",
    "        # Control No. 3 and No. 4 servos to up and down\n",
    "        Arm.Arm_serial_servo_write(3, 0, 1000)\n",
    "        time.sleep(.001)\n",
    "        Arm.Arm_serial_servo_write(4, 180, 1000)\n",
    "        time.sleep(1)\n",
    "        \n",
    "        # Control the No.1 servo to left and right\n",
    "        Arm.Arm_serial_servo_write(1, 180, 500)\n",
    "        time.sleep(.5)\n",
    "        Arm.Arm_serial_servo_write(1, 0, 1000)\n",
    "        time.sleep(1)\n",
    "        \n",
    "        # Control the servo to restore the initial position\n",
    "        Arm.Arm_serial_servo_write6(90, 90, 90, 90, 90, 90, 1000)\n",
    "        time.sleep(1.5)\n",
    "\n",
    "\n",
    "try :\n",
    "    main()\n",
    "except KeyboardInterrupt:\n",
    "    print(\" Program closed! \")\n",
    "    pass\n"
   ]
  },
  {
   "cell_type": "code",
   "execution_count": null,
   "metadata": {},
   "outputs": [],
   "source": [
    "del Arm  # Release DOFBOT object"
   ]
  },
  {
   "cell_type": "code",
   "execution_count": null,
   "metadata": {},
   "outputs": [],
   "source": []
  }
 ],
 "metadata": {
  "kernelspec": {
   "display_name": "Python 3",
   "language": "python",
   "name": "python3"
  },
  "language_info": {
   "codemirror_mode": {
    "name": "ipython",
    "version": 3
   },
   "file_extension": ".py",
   "mimetype": "text/x-python",
   "name": "python",
   "nbconvert_exporter": "python",
   "pygments_lexer": "ipython3",
   "version": "3.6.9"
  }
 },
 "nbformat": 4,
 "nbformat_minor": 4
}
