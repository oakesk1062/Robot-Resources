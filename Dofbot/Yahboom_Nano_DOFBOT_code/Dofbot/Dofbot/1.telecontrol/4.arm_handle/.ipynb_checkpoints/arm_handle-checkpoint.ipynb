{
 "cells": [
  {
   "cell_type": "markdown",
   "metadata": {},
   "source": [
    "# Control DOFBOT by handle"
   ]
  },
  {
   "cell_type": "markdown",
   "metadata": {},
   "source": [
    "Handle key test\n",
    "First of all, we open the http://html5gamepad.com webpage, and connect your Handle to your computer. \n",
    "Because maybe your PC computer can not only connect a handle, so the default value of the index of the handle you connect is not 0, so we need to go to this page to view the handle we are currently using. The index can be used correctly. "
   ]
  },
  {
   "cell_type": "code",
   "execution_count": null,
   "metadata": {},
   "outputs": [],
   "source": [
    "import ipywidgets.widgets as widgets\n",
    "controller = widgets.Controller(index=0)  # index indicates the serial number of the handle we use\n",
    "display(controller)                       # Display slide bars and boxes"
   ]
  },
  {
   "cell_type": "markdown",
   "metadata": {},
   "source": [
    "### Import library "
   ]
  },
  {
   "cell_type": "code",
   "execution_count": null,
   "metadata": {},
   "outputs": [],
   "source": [
    "\n",
    "import threading\n",
    "import time\n",
    "\n",
    "import inspect\n",
    "import ctypes\n",
    "\n",
    "from Arm_Lib import Arm_Device\n",
    "Arm = Arm_Device()"
   ]
  },
  {
   "cell_type": "markdown",
   "metadata": {},
   "source": [
    "### Stop process"
   ]
  },
  {
   "cell_type": "code",
   "execution_count": null,
   "metadata": {},
   "outputs": [],
   "source": [
    "def _async_raise(tid, exctype):\n",
    "    \"\"\"raises the exception, performs cleanup if needed\"\"\"\n",
    "    tid = ctypes.c_long(tid)\n",
    "    if not inspect.isclass(exctype):\n",
    "        exctype = type(exctype)\n",
    "    res = ctypes.pythonapi.PyThreadState_SetAsyncExc(tid, ctypes.py_object(exctype))\n",
    "    if res == 0:\n",
    "        raise ValueError(\"invalid thread id\")\n",
    "    elif res != 1:\n",
    "        # \"\"\"if it returns a number greater than one, you're in trouble,\n",
    "        # and you should call it again with exc=NULL to revert the effect\"\"\"\n",
    "        ctypes.pythonapi.PyThreadState_SetAsyncExc(tid, None)\n",
    "        \n",
    "def stop_thread(thread):\n",
    "    _async_raise(thread.ident, SystemExit)"
   ]
  },
  {
   "cell_type": "markdown",
   "metadata": {},
   "source": [
    "## If the analog mode of the handle is turned on, that is, when the red light is on.\n",
    "## The arrow keys on the left side cannot be used. Please use the left and right rocker and the keys on both sides of the LR to control the robotic arm.\n",
    "\n",
    "## Handle function\n",
    "\n",
    "1. The left rocker and arrow keys control the No.1 and No.2 servos. The left and right directions control the left and right movement of the No.1 servo, and the up and down directions control the front and back movement of the No.2 servo.\n",
    "2. The right rocker and number keys control the No.5 and No.6 servos. The left and right directions control the No.5 servos to flip left and right, and the up and down directions control the clamping and loosening of the No.6 servo clamps.\n",
    "3. L1 and L2 control the No.3 servo to run forward or backward.\n",
    "4. R1 and R2 control the No.4 servo to run forward or backward.\n",
    "5. Press the SELECT button to set all the servo angles of the robotic arm to 90 degrees."
   ]
  },
  {
   "cell_type": "code",
   "execution_count": null,
   "metadata": {},
   "outputs": [],
   "source": [
    "def Arm_Handle():\n",
    "    s_time = 500\n",
    "    s_step = 1\n",
    "    angle_1 = angle_2 = angle_3 = angle_4 =  angle_5 = angle_6 = 90\n",
    "    while 1:\n",
    "        # Because of the individual differences between the rocker on handle. \n",
    "        # all the reset values on the remote stick are not necessarily zero, so 0.1 is required as a filter to avoid misoperation.\n",
    "        # No.2 servo, A1 Up-negative Down-positive\n",
    "        if controller.axes[1].value <= 0.1 and controller.axes[1].value >= -0.1:\n",
    "            time.sleep(.000001)\n",
    "        else:\n",
    "            if controller.axes[1].value > 0.1:\n",
    "                angle_2 += s_step\n",
    "            else:\n",
    "                angle_2 -= s_step\n",
    "            if angle_2 > 180:\n",
    "                angle_2 = 180\n",
    "            elif angle_2 < 0:\n",
    "                angle_2 = 0\n",
    "            Arm.Arm_serial_servo_write(2, angle_2, s_time)\n",
    "            time.sleep(0.01)\n",
    "\n",
    "        # No.1 servo, A0 Left-negative Right-positive\n",
    "        if (controller.axes[0].value <= 0.1 and controller.axes[0].value >= -0.1):\n",
    "                time.sleep(.000001)\n",
    "        else:\n",
    "            if controller.axes[0].value > 0.1:\n",
    "                angle_1 -= s_step\n",
    "            else:\n",
    "                angle_1 += s_step\n",
    "                \n",
    "            if angle_1 > 180:\n",
    "                angle_1 = 180\n",
    "            elif angle_1 < 0:\n",
    "                angle_1 = 0\n",
    "            Arm.Arm_serial_servo_write(1, angle_1, s_time)\n",
    "            time.sleep(0.01)\n",
    "\n",
    "        # No.6 servo, NUM1=B0,NUM3=B2, A2 Up-negative Down-positive\n",
    "        if controller.buttons[0].value == True:\n",
    "            angle_6 += s_step\n",
    "            if angle_6 > 180:\n",
    "                angle_6 = 180\n",
    "            elif angle_6 < 0:\n",
    "                angle_6 = 0\n",
    "            Arm.Arm_serial_servo_write(6, angle_6, s_time)\n",
    "            time.sleep(0.01)\n",
    "        elif controller.buttons[2].value == True:\n",
    "            angle_6 -= s_step\n",
    "            if angle_6 > 180:\n",
    "                angle_6 = 180\n",
    "            elif angle_6 < 0:\n",
    "                angle_6 = 0\n",
    "            Arm.Arm_serial_servo_write(6, angle_6, s_time)\n",
    "            time.sleep(0.01)\n",
    "        elif controller.axes[2].value > 0.5:\n",
    "            angle_6 -= s_step\n",
    "            if angle_6 > 180:\n",
    "                angle_6 = 180\n",
    "            elif angle_6 < 0:\n",
    "                angle_6 = 0\n",
    "            Arm.Arm_serial_servo_write(6, angle_6, s_time)\n",
    "            time.sleep(0.01)\n",
    "        elif controller.axes[2].value < -0.5:\n",
    "            angle_6 += s_step\n",
    "            if angle_6 > 180:\n",
    "                angle_6 = 180\n",
    "            elif angle_6 < 0:\n",
    "                angle_6 = 0\n",
    "            Arm.Arm_serial_servo_write(6, angle_6, s_time)\n",
    "            time.sleep(0.01)\n",
    "\n",
    "        # No.5, NUM2=B1,NUM4=B3, A5Left-negative Right-positive\n",
    "        if controller.buttons[1].value == True:\n",
    "            angle_5 += s_step\n",
    "            if angle_5 > 180:\n",
    "                angle_5 = 180\n",
    "            elif angle_5 < 0:\n",
    "                angle_5 = 0\n",
    "            Arm.Arm_serial_servo_write(5, angle_5, s_time)\n",
    "            time.sleep(0.01)\n",
    "        elif controller.buttons[3].value == True:\n",
    "            angle_5 -= s_step\n",
    "            if angle_5 > 180:\n",
    "                angle_5 = 180\n",
    "            elif angle_5 < 0:\n",
    "                angle_5 = 0\n",
    "            Arm.Arm_serial_servo_write(5, angle_5, s_time)  \n",
    "            time.sleep(0.01)\n",
    "        elif controller.axes[5].value > 0.5:\n",
    "            angle_5 += s_step\n",
    "            if angle_5 > 180:\n",
    "                angle_5 = 180\n",
    "            elif angle_5 < 0:\n",
    "                angle_5 = 0\n",
    "            Arm.Arm_serial_servo_write(5, angle_5, s_time)\n",
    "            time.sleep(0.01)\n",
    "        elif controller.axes[5].value < -0.5:\n",
    "            angle_5 -= s_step\n",
    "            if angle_5 > 180:\n",
    "                angle_5 = 180\n",
    "            elif angle_5 < 0:\n",
    "                angle_5 = 0\n",
    "            Arm.Arm_serial_servo_write(5, angle_5, s_time)  \n",
    "            time.sleep(0.01)\n",
    "\n",
    "\n",
    "        # NO.4 servo，R1=B5,R2=B7   \n",
    "        if controller.buttons[5].value == True:\n",
    "            angle_4 -= s_step\n",
    "            if angle_4 > 180:\n",
    "                angle_4 = 180\n",
    "            elif angle_4 < 0:\n",
    "                angle_4 = 0\n",
    "            Arm.Arm_serial_servo_write(4, angle_4, s_time)\n",
    "            time.sleep(0.01)\n",
    "        elif controller.buttons[7].value == True:\n",
    "            angle_4 += s_step\n",
    "            if angle_4 > 180:\n",
    "                angle_4 = 180\n",
    "            elif angle_4 < 0:\n",
    "                angle_4 = 0\n",
    "            Arm.Arm_serial_servo_write(4, angle_4, s_time)  \n",
    "            time.sleep(0.01)\n",
    "\n",
    "        # NO.3 servo，L1=B4,L2=B6   \n",
    "        if controller.buttons[4].value == True:\n",
    "            angle_3 -= s_step\n",
    "            if angle_3 > 180:\n",
    "                angle_3 = 180\n",
    "            elif angle_3 < 0:\n",
    "                angle_3 = 0\n",
    "            Arm.Arm_serial_servo_write(3, angle_3, s_time)\n",
    "            time.sleep(0.01)\n",
    "        elif controller.buttons[6].value == True:\n",
    "            angle_3 += s_step\n",
    "            if angle_3 > 180:\n",
    "                angle_3 = 180\n",
    "            elif angle_3 < 0:\n",
    "                angle_3 = 0\n",
    "            Arm.Arm_serial_servo_write(3, angle_3, s_time)  \n",
    "            time.sleep(0.01)\n",
    "        \n",
    "        # Press the key B8 to set all servos of DOFBOT to 90 degrees\n",
    "        if controller.buttons[8].value == True:\n",
    "            angle_1 = angle_2 = angle_3 = angle_4 = angle_5 = angle_6 = 90\n",
    "            Arm.Arm_serial_servo_write6(90, 90, 90, 90, 90, 90, 1000)\n",
    "            time.sleep(1)\n",
    "            "
   ]
  },
  {
   "cell_type": "markdown",
   "metadata": {},
   "source": [
    "### Start"
   ]
  },
  {
   "cell_type": "code",
   "execution_count": null,
   "metadata": {},
   "outputs": [],
   "source": [
    "thread2 = threading.Thread(target=Arm_Handle)\n",
    "thread2.setDaemon(True)\n",
    "thread2.start()"
   ]
  },
  {
   "cell_type": "markdown",
   "metadata": {},
   "source": [
    "### End the handle process by running the code in the following cell. If the process fails to start or end, restart the kernel and run it again"
   ]
  },
  {
   "cell_type": "code",
   "execution_count": null,
   "metadata": {},
   "outputs": [],
   "source": [
    "stop_thread(thread2)"
   ]
  },
  {
   "cell_type": "code",
   "execution_count": null,
   "metadata": {},
   "outputs": [],
   "source": []
  }
 ],
 "metadata": {
  "kernelspec": {
   "display_name": "Python 3",
   "language": "python",
   "name": "python3"
  },
  "language_info": {
   "codemirror_mode": {
    "name": "ipython",
    "version": 3
   },
   "file_extension": ".py",
   "mimetype": "text/x-python",
   "name": "python",
   "nbconvert_exporter": "python",
   "pygments_lexer": "ipython3",
   "version": "3.6.9"
  }
 },
 "nbformat": 4,
 "nbformat_minor": 4
}
