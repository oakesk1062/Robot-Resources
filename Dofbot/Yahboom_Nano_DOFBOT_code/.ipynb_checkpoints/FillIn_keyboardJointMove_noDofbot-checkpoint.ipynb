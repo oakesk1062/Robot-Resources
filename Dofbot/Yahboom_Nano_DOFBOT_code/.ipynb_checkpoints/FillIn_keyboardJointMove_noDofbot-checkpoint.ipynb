{
 "cells": [
  {
   "cell_type": "code",
   "execution_count": 1,
   "id": "c4f10a27-cc2c-41dc-a0b6-de95e59a2d68",
   "metadata": {},
   "outputs": [],
   "source": [
    "import _____ #import the time module. Used for adding pauses during operation\n",
    "time.sleep(.2) #this pauses execution for the given number of seconds"
   ]
  },
  {
   "cell_type": "code",
   "execution_count": 2,
   "id": "ce7bb7ce-4f37-49bc-b703-fcc8d2c0b561",
   "metadata": {},
   "outputs": [],
   "source": [
    "def main(): #define the main program function\n",
    "    #The print function is used to display helpful information to the console\n",
    "    print(\"Input joint number 0 to stop program execution\")\n",
    "    while True: #keep executing the indented code until jnum=0\n",
    "        jnum = getJointNumber() #use our defined function to get the joint number\n",
    "        #if the joint number provided is 0, loop execution ends\n",
    "        #if the joint number is not 0, we get the angle and display \"Joint MOVE\"\n",
    "        #the next iteration of this file will actually move the joints\n",
    "        if jnum == ___: \n",
    "            break #break is used to stop execution (break out of) a while or for loop\n",
    "        else:\n",
    "            ang = getJointAngle(jnum)   #use our defined function to get the desired joint angle\n",
    "            print(\"Joint MOVE\")   \n",
    "            time.sleep(1) #add a pause to allow time for joints to move\n",
    "    print(\"Program has been terminated by user\") #let the user know the program is no longer executing"
   ]
  },
  {
   "cell_type": "code",
   "execution_count": 3,
   "id": "5bb57734-21fc-43b0-a0eb-d32121e984d4",
   "metadata": {},
   "outputs": [],
   "source": [
    "def getJointNumber():\n",
    "    \"\"\"\n",
    "    function used to get the desired joint number using keyboard input\n",
    "    getJointNumber() requests user input the desired joint number and returns joint number as an integer\n",
    "    \"\"\"\n",
    "    jnum = int(____(\"Input joint number\")) #ask the user to input a joint number. int converts the input to an integer\n",
    "    print(\"Joint number: \",____) #print out the joint number that was read\n",
    "    #if the joint number is not valid, keep prompting until a valid number is given\n",
    "    if jnum<0 or jnum>____:\n",
    "        while ____: \n",
    "            jnum = int(input(\"Input valid joint number [1,6]\"))\n",
    "            if jnum>=0 and jnum<=6:\n",
    "                break\n",
    "    return ______ #return the read value to the main function"
   ]
  },
  {
   "cell_type": "code",
   "execution_count": 4,
   "id": "420a3755-0943-48e2-8f6b-fa3e4e2ded28",
   "metadata": {},
   "outputs": [],
   "source": [
    "def getJointAngle(jnum):\n",
    "    \"\"\"\n",
    "    function used to get the desired joint angle using keyboard input\n",
    "    getJointAngle() requests user input the desired joint angle in degrees and returns joint angle as an integer\n",
    "    function needs to know the target joint (jnum) because joint 5 has a different angle range than the other joints\n",
    "    \"\"\"\n",
    "    ang = ____(input(\"Input angle (degrees)\")) #ask the user to input a joint angle in degrees. int converts the input to an integer\n",
    "    print(\"Joint angle: \",ang) #print out the joint angle that was read\n",
    "    #if the joint angle is not valid, keep prompting until a valid number is given   \n",
    "    if jnum != 5: #range for all joints except 5 is 0 to 180 degrees\n",
    "        if ang<____ or ang>180:\n",
    "            while True:\n",
    "                ang = int(input(\"Input valid joint angle [0,180]\"))\n",
    "                if ang>=0 and ang<=180:\n",
    "                    ________\n",
    "    else: #joint 5 range is 0 to 270 degrees\n",
    "        if ang<0 or ang>____:\n",
    "            while True:\n",
    "                ang = int(input(\"Input valid joint angle [0,270]\"))\n",
    "                if ang>=0 and ang<=270:\n",
    "                    break\n",
    "    _______ ang #return the read value to the main functionfunction needs to know the target joint (jnum) because joint 5 has a different angle range than the other joints\n",
    "    "
   ]
  },
  {
   "cell_type": "code",
   "execution_count": 5,
   "id": "c517c0f2-2941-4074-b441-ebfcd587252e",
   "metadata": {},
   "outputs": [
    {
     "name": "stdout",
     "output_type": "stream",
     "text": [
      "Input joint number 0 to stop program execution\n"
     ]
    },
    {
     "name": "stdin",
     "output_type": "stream",
     "text": [
      "Input joint number 9\n"
     ]
    },
    {
     "name": "stdout",
     "output_type": "stream",
     "text": [
      "Joint number:  9\n"
     ]
    },
    {
     "name": "stdin",
     "output_type": "stream",
     "text": [
      "Input valid joint number [1,6] 4\n",
      "Input angle (degrees) 8\n"
     ]
    },
    {
     "name": "stdout",
     "output_type": "stream",
     "text": [
      "Joint angle:  8\n",
      "Joint MOVE\n"
     ]
    },
    {
     "name": "stdin",
     "output_type": "stream",
     "text": [
      "Input joint number 0\n"
     ]
    },
    {
     "name": "stdout",
     "output_type": "stream",
     "text": [
      "Joint number:  0\n"
     ]
    },
    {
     "name": "stdin",
     "output_type": "stream",
     "text": [
      "Input angle (degrees) 0\n"
     ]
    },
    {
     "name": "stdout",
     "output_type": "stream",
     "text": [
      "Joint angle:  0\n",
      "Program has been terminated by user\n"
     ]
    }
   ],
   "source": [
    "try:\n",
    "    main()\n",
    "except KeyboardInterrupt:\n",
    "    print(\"Program closed!\")\n",
    "    pass"
   ]
  }
 ],
 "metadata": {
  "kernelspec": {
   "display_name": "Python 3 (ipykernel)",
   "language": "python",
   "name": "python3"
  },
  "language_info": {
   "codemirror_mode": {
    "name": "ipython",
    "version": 3
   },
   "file_extension": ".py",
   "mimetype": "text/x-python",
   "name": "python",
   "nbconvert_exporter": "python",
   "pygments_lexer": "ipython3",
   "version": "3.10.6"
  }
 },
 "nbformat": 4,
 "nbformat_minor": 5
}
