{
 "cells": [
  {
   "cell_type": "code",
   "execution_count": null,
   "id": "0a171c67-7ae6-489b-b484-e871a09afe60",
   "metadata": {},
   "outputs": [],
   "source": [
    "import time\n",
    "from Arm_Lib import Arm_Device\n",
    "\n",
    "# Get DOFBOT object\n",
    "Arm = Arm_Device()\n",
    "time.sleep(.2)"
   ]
  },
  {
   "cell_type": "code",
   "execution_count": null,
   "id": "be8b6720-d845-413e-b584-5efdcf0d15db",
   "metadata": {},
   "outputs": [],
   "source": [
    "def main():\n",
    "    tmp = True\n",
    "    id = input(\"Input joint number\")\n",
    "    id = int(id)\n",
    "    print(id)\n",
    "    val = input(\"Input angle\")\n",
    "    val = int(val)\n",
    "    while tmp:\n",
    "        Arm.Arm_serial_servo_write(id,val,10)\n",
    "        time.sleep(10)\n",
    "        id = input(\"Input joint number\")\n",
    "        id = int(id)\n",
    "        print(id)\n",
    "        val = input(\"Input angle\")\n",
    "        val = int(val)\n",
    "        print(val)\n",
    "        if id == 0:\n",
    "            tmp = False\n",
    "        time.sleep(.1)\n",
    "        \n",
    "        \n",
    "try:\n",
    "    main()\n",
    "except KeyboardInterrupt:\n",
    "    print(\"Program closed!\")\n",
    "    pass"
   ]
  },
  {
   "cell_type": "code",
   "execution_count": null,
   "id": "5d7bd884-0eb4-420f-b614-7554f2822a6b",
   "metadata": {},
   "outputs": [],
   "source": [
    "del Arm"
   ]
  }
 ],
 "metadata": {
  "kernelspec": {
   "display_name": "Python 3 (ipykernel)",
   "language": "python",
   "name": "python3"
  },
  "language_info": {
   "codemirror_mode": {
    "name": "ipython",
    "version": 3
   },
   "file_extension": ".py",
   "mimetype": "text/x-python",
   "name": "python",
   "nbconvert_exporter": "python",
   "pygments_lexer": "ipython3",
   "version": "3.10.6"
  }
 },
 "nbformat": 4,
 "nbformat_minor": 5
}
